{
 "cells": [
  {
   "cell_type": "markdown",
   "metadata": {},
   "source": [
    "# Градиентный бустинг своими руками"
   ]
  },
  {
   "cell_type": "code",
   "execution_count": 223,
   "metadata": {
    "collapsed": false
   },
   "outputs": [],
   "source": [
    "from pandas import DataFrame\n",
    "import numpy as np\n",
    "from sklearn import datasets, cross_validation, tree, metrics"
   ]
  },
  {
   "cell_type": "code",
   "execution_count": 262,
   "metadata": {
    "collapsed": false
   },
   "outputs": [],
   "source": [
    "boston = datasets.load_boston()\n",
    "boston.keys()\n",
    "\n",
    "X_train, X_test = boston.data[:380], boston.data[380:]\n",
    "y_train, y_test = boston.target[:380], boston.target[380:]"
   ]
  },
  {
   "cell_type": "code",
   "execution_count": null,
   "metadata": {
    "collapsed": false
   },
   "outputs": [],
   "source": []
  },
  {
   "cell_type": "markdown",
   "metadata": {},
   "source": [
    "#### Задание 1\n",
    "алгоритмы"
   ]
  },
  {
   "cell_type": "code",
   "execution_count": 264,
   "metadata": {
    "collapsed": false
   },
   "outputs": [],
   "source": [
    "# err = (y_test - pred)**2\n",
    "# pred = pred - alfa*2*(y_test - pred)\n",
    "\n",
    "def shift(y, pred):\n",
    "    return y-pred  #anti gradient"
   ]
  },
  {
   "cell_type": "markdown",
   "metadata": {},
   "source": [
    "#### Задание 2"
   ]
  },
  {
   "cell_type": "code",
   "execution_count": 267,
   "metadata": {
    "collapsed": false
   },
   "outputs": [],
   "source": [
    "base_list = []\n",
    "alfas = []\n",
    "pred = y_train\n",
    "alfa = 0.9\n",
    "s = y_train\n",
    "for _ in range(50):\n",
    "    a = tree.DecisionTreeRegressor(max_depth=5, random_state=42)\n",
    "    a.fit(X_train, s) \n",
    "    base_list.append(a) \n",
    "    alfas.append(alfa)\n",
    "    s = y_train - gbm_predict(X_train)       \n",
    "\n",
    "def gbm_predict(X):\n",
    "    return [sum([alfa * alg.predict([x])[0] for alg, alfa in zip(base_list, alfas)]) for x in X]"
   ]
  },
  {
   "cell_type": "code",
   "execution_count": 269,
   "metadata": {
    "collapsed": false
   },
   "outputs": [
    {
     "data": {
      "text/plain": [
       "5.4554720745275311"
      ]
     },
     "execution_count": 269,
     "metadata": {},
     "output_type": "execute_result"
    }
   ],
   "source": [
    "y_pred = gbm_predict(X_test)\n",
    "score = metrics.mean_squared_error(y_test, y_pred)\n",
    "score**0.5"
   ]
  },
  {
   "cell_type": "markdown",
   "metadata": {},
   "source": [
    "#### Задание 3"
   ]
  },
  {
   "cell_type": "code",
   "execution_count": 273,
   "metadata": {
    "collapsed": false
   },
   "outputs": [
    {
     "data": {
      "text/plain": [
       "5.2138726364824493"
      ]
     },
     "execution_count": 273,
     "metadata": {},
     "output_type": "execute_result"
    }
   ],
   "source": [
    "base_list = []\n",
    "alfas = []\n",
    "pred = y_train\n",
    "alfa = 0.9\n",
    "s = y_train\n",
    "for i in range(30):\n",
    "    a = tree.DecisionTreeRegressor(max_depth=5, random_state=42)\n",
    "    a.fit(X_train, s) \n",
    "    base_list.append(a) \n",
    "    alfa = 0.9/(1 + i)\n",
    "    alfas.append(alfa)\n",
    "    s = y_train - gbm_predict(X_train)       \n",
    "\n",
    "def gbm_predict(X):\n",
    "    return [sum([alfa * alg.predict([x])[0] for alg, alfa in zip(base_list, alfas)]) for x in X]\n",
    "\n",
    "y_pred = gbm_predict(X_test)\n",
    "score = metrics.mean_squared_error(y_test, y_pred)\n",
    "score**0.5"
   ]
  },
  {
   "cell_type": "code",
   "execution_count": 275,
   "metadata": {
    "collapsed": false
   },
   "outputs": [
    {
     "data": {
      "text/plain": [
       "7.8481217964797798"
      ]
     },
     "execution_count": 275,
     "metadata": {},
     "output_type": "execute_result"
    }
   ],
   "source": [
    "import sklearn.linear_model as ln\n",
    "a = ln.LinearRegression()\n",
    "a.fit(X_train, y_train)\n",
    "score = metrics.mean_squared_error(y_test, a.predict(X_test))\n",
    "score**0.5"
   ]
  },
  {
   "cell_type": "code",
   "execution_count": null,
   "metadata": {
    "collapsed": true
   },
   "outputs": [],
   "source": []
  }
 ],
 "metadata": {
  "anaconda-cloud": {},
  "kernelspec": {
   "display_name": "Python [conda root]",
   "language": "python",
   "name": "conda-root-py"
  },
  "language_info": {
   "codemirror_mode": {
    "name": "ipython",
    "version": 2
   },
   "file_extension": ".py",
   "mimetype": "text/x-python",
   "name": "python",
   "nbconvert_exporter": "python",
   "pygments_lexer": "ipython2",
   "version": "2.7.14"
  }
 },
 "nbformat": 4,
 "nbformat_minor": 2
}
