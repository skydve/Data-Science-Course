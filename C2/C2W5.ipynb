{
 "cells": [
  {
   "cell_type": "code",
   "execution_count": 2,
   "metadata": {
    "collapsed": true
   },
   "outputs": [],
   "source": [
    "import sklearn.datasets as ds"
   ]
  },
  {
   "cell_type": "code",
   "execution_count": 4,
   "metadata": {
    "collapsed": true
   },
   "outputs": [],
   "source": [
    "??ds"
   ]
  },
  {
   "cell_type": "code",
   "execution_count": 5,
   "metadata": {
    "collapsed": false
   },
   "outputs": [
    {
     "name": "stdout",
     "output_type": "stream",
     "text": [
      "warning: You ran 'git add' with neither '-A (--all)' or '--ignore-removal',\r\n",
      "whose behaviour will change in Git 2.0 with respect to paths you removed.\r\n",
      "Paths like 'C2/1.txt' that are\r\n",
      "removed from your working tree are ignored with this version of Git.\r\n",
      "\r\n",
      "* 'git add --ignore-removal <pathspec>', which is the current default,\r\n",
      "  ignores paths you removed from your working tree.\r\n",
      "\r\n",
      "* 'git add --all <pathspec>' will let you also record the removals.\r\n",
      "\r\n",
      "Run 'git status' to check the paths you removed from your working tree.\r\n",
      "\r\n"
     ]
    }
   ],
   "source": [
    "!git add ."
   ]
  },
  {
   "cell_type": "code",
   "execution_count": null,
   "metadata": {
    "collapsed": true
   },
   "outputs": [],
   "source": [
    "!git add --all"
   ]
  }
 ],
 "metadata": {
  "anaconda-cloud": {},
  "kernelspec": {
   "display_name": "Python [conda root]",
   "language": "python",
   "name": "conda-root-py"
  },
  "language_info": {
   "codemirror_mode": {
    "name": "ipython",
    "version": 2
   },
   "file_extension": ".py",
   "mimetype": "text/x-python",
   "name": "python",
   "nbconvert_exporter": "python",
   "pygments_lexer": "ipython2",
   "version": "2.7.14"
  }
 },
 "nbformat": 4,
 "nbformat_minor": 1
}
