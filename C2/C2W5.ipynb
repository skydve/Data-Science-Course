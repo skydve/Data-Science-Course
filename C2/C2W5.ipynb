{
 "cells": [
  {
   "cell_type": "code",
   "execution_count": 2,
   "metadata": {
    "collapsed": true
   },
   "outputs": [],
   "source": [
    "import sklearn.datasets as ds"
   ]
  },
  {
   "cell_type": "code",
   "execution_count": 4,
   "metadata": {
    "collapsed": true
   },
   "outputs": [],
   "source": [
    "??ds"
   ]
  },
  {
   "cell_type": "code",
   "execution_count": 5,
   "metadata": {
    "collapsed": false
   },
   "outputs": [
    {
     "name": "stdout",
     "output_type": "stream",
     "text": [
      "warning: You ran 'git add' with neither '-A (--all)' or '--ignore-removal',\r\n",
      "whose behaviour will change in Git 2.0 with respect to paths you removed.\r\n",
      "Paths like 'C2/1.txt' that are\r\n",
      "removed from your working tree are ignored with this version of Git.\r\n",
      "\r\n",
      "* 'git add --ignore-removal <pathspec>', which is the current default,\r\n",
      "  ignores paths you removed from your working tree.\r\n",
      "\r\n",
      "* 'git add --all <pathspec>' will let you also record the removals.\r\n",
      "\r\n",
      "Run 'git status' to check the paths you removed from your working tree.\r\n",
      "\r\n"
     ]
    }
   ],
   "source": [
    "!git add ."
   ]
  },
  {
   "cell_type": "code",
   "execution_count": 6,
   "metadata": {
    "collapsed": false
   },
   "outputs": [
    {
     "name": "stdout",
     "output_type": "stream",
     "text": [
      "On branch master\r\n",
      "Your branch is up-to-date with 'origin/master'.\r\n",
      "\r\n",
      "Changes to be committed:\r\n",
      "  (use \"git reset HEAD <file>...\" to unstage)\r\n",
      "\r\n",
      "\t\u001b[32mnew file:   .ipynb_checkpoints/C2W5-checkpoint.ipynb\u001b[m\r\n",
      "\t\u001b[32mnew file:   C2W5.ipynb\u001b[m\r\n",
      "\t\u001b[32mmodified:   Untitled.ipynb\u001b[m\r\n",
      "\r\n",
      "Changes not staged for commit:\r\n",
      "  (use \"git add/rm <file>...\" to update what will be committed)\r\n",
      "  (use \"git checkout -- <file>...\" to discard changes in working directory)\r\n",
      "\r\n",
      "\t\u001b[31mdeleted:    1.txt\u001b[m\r\n",
      "\t\u001b[31mdeleted:    2.txt\u001b[m\r\n",
      "\t\u001b[31mdeleted:    3.txt\u001b[m\r\n",
      "\t\u001b[31mmodified:   C2W5.ipynb\u001b[m\r\n",
      "\r\n"
     ]
    }
   ],
   "source": [
    "!git status"
   ]
  },
  {
   "cell_type": "code",
   "execution_count": 7,
   "metadata": {
    "collapsed": true
   },
   "outputs": [],
   "source": [
    "!git add -A"
   ]
  },
  {
   "cell_type": "code",
   "execution_count": 8,
   "metadata": {
    "collapsed": false
   },
   "outputs": [
    {
     "name": "stdout",
     "output_type": "stream",
     "text": [
      "On branch master\r\n",
      "Your branch is up-to-date with 'origin/master'.\r\n",
      "\r\n",
      "Changes to be committed:\r\n",
      "  (use \"git reset HEAD <file>...\" to unstage)\r\n",
      "\r\n",
      "\t\u001b[32mnew file:   .ipynb_checkpoints/C2W5-checkpoint.ipynb\u001b[m\r\n",
      "\t\u001b[32mdeleted:    1.txt\u001b[m\r\n",
      "\t\u001b[32mdeleted:    2.txt\u001b[m\r\n",
      "\t\u001b[32mdeleted:    3.txt\u001b[m\r\n",
      "\t\u001b[32mnew file:   C2W5.ipynb\u001b[m\r\n",
      "\t\u001b[32mmodified:   Untitled.ipynb\u001b[m\r\n",
      "\r\n"
     ]
    }
   ],
   "source": [
    "!git status"
   ]
  },
  {
   "cell_type": "code",
   "execution_count": 9,
   "metadata": {
    "collapsed": false
   },
   "outputs": [
    {
     "name": "stdout",
     "output_type": "stream",
     "text": [
      "[master a87e45c] added task 5\r\n",
      " 6 files changed, 172 insertions(+), 3 deletions(-)\r\n",
      " create mode 100644 C2/.ipynb_checkpoints/C2W5-checkpoint.ipynb\r\n",
      " delete mode 100644 C2/1.txt\r\n",
      " delete mode 100644 C2/2.txt\r\n",
      " delete mode 100644 C2/3.txt\r\n",
      " create mode 100644 C2/C2W5.ipynb\r\n"
     ]
    }
   ],
   "source": [
    "!git commit -m 'added task 5'"
   ]
  },
  {
   "cell_type": "code",
   "execution_count": 10,
   "metadata": {
    "collapsed": false
   },
   "outputs": [
    {
     "name": "stdout",
     "output_type": "stream",
     "text": [
      "warning: push.default is unset; its implicit value is changing in\n",
      "Git 2.0 from 'matching' to 'simple'. To squelch this message\n",
      "and maintain the current behavior after the default changes, use:\n",
      "\n",
      "  git config --global push.default matching\n",
      "\n",
      "To squelch this message and adopt the new behavior now, use:\n",
      "\n",
      "  git config --global push.default simple\n",
      "\n",
      "When push.default is set to 'matching', git will push local branches\n",
      "to the remote branches that already exist with the same name.\n",
      "\n",
      "In Git 2.0, Git will default to the more conservative 'simple'\n",
      "behavior, which only pushes the current branch to the corresponding\n",
      "remote branch that 'git pull' uses to update the current branch.\n",
      "\n",
      "See 'git help config' and search for 'push.default' for further information.\n",
      "(the 'simple' mode was introduced in Git 1.7.11. Use the similar mode\n",
      "'current' instead of 'simple' if you sometimes use older versions of Git)\n",
      "\n",
      "remote: Invalid username or password.\n",
      "fatal: Authentication failed for 'https://github.com/skydve/Data-Science-Course.git/'\n"
     ]
    }
   ],
   "source": [
    "!git push"
   ]
  },
  {
   "cell_type": "code",
   "execution_count": null,
   "metadata": {
    "collapsed": true
   },
   "outputs": [],
   "source": []
  }
 ],
 "metadata": {
  "anaconda-cloud": {},
  "kernelspec": {
   "display_name": "Python [conda root]",
   "language": "python",
   "name": "conda-root-py"
  },
  "language_info": {
   "codemirror_mode": {
    "name": "ipython",
    "version": 2
   },
   "file_extension": ".py",
   "mimetype": "text/x-python",
   "name": "python",
   "nbconvert_exporter": "python",
   "pygments_lexer": "ipython2",
   "version": "2.7.14"
  }
 },
 "nbformat": 4,
 "nbformat_minor": 1
}
