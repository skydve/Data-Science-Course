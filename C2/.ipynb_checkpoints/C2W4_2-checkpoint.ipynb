{
 "cells": [
  {
   "cell_type": "markdown",
   "metadata": {},
   "source": [
    "# Градиентный бустинг своими руками"
   ]
  },
  {
   "cell_type": "code",
   "execution_count": 71,
   "metadata": {
    "collapsed": false
   },
   "outputs": [],
   "source": [
    "from pandas import DataFrame\n",
    "import numpy as np\n",
    "from sklearn import datasets, cross_validation, tree, metrics"
   ]
  },
  {
   "cell_type": "code",
   "execution_count": 98,
   "metadata": {
    "collapsed": false
   },
   "outputs": [],
   "source": [
    "boston = datasets.load_boston()\n",
    "boston.keys()\n",
    "X_train, X_test, y_train, y_test = cross_validation.train_test_split(boston.data, \n",
    "                                                                    boston.target, \n",
    "                                                                    test_size = 0.25)"
   ]
  },
  {
   "cell_type": "markdown",
   "metadata": {},
   "source": [
    "#### Задание 1\n",
    "алгоритмы"
   ]
  },
  {
   "cell_type": "code",
   "execution_count": 114,
   "metadata": {
    "collapsed": false
   },
   "outputs": [],
   "source": [
    "# err = (y_test - pred)**2\n",
    "# pred = pred - alfa*2*(y_test - pred)\n",
    "\n",
    "def shift(y, pred, alfa):\n",
    "    return alfa*2*(y - pred)  #anti gradient"
   ]
  },
  {
   "cell_type": "markdown",
   "metadata": {},
   "source": [
    "#### Задание 2"
   ]
  },
  {
   "cell_type": "code",
   "execution_count": 169,
   "metadata": {
    "collapsed": false
   },
   "outputs": [],
   "source": [
    "base_list = []\n",
    "alfas = []\n",
    "pred = y_train\n",
    "\n",
    "for _ in range(1):\n",
    "    #обучаем дерево\n",
    "    a = tree.DecisionTreeRegressor(max_depth=5, random_state=42)\n",
    "    a.fit(X_train, pred)    \n",
    "    alfa = 0.9\n",
    "    base_list.append(a) \n",
    "    alfas.append(alfa)\n",
    "    \n",
    "    #a_pred = a.predict(X_train)\n",
    "    a_pred = gbm_predict(X_train)\n",
    "    \n",
    "    pred = shift(pred, a_pred, alfa)\n",
    "    #добавляем алгоритм и коэффициент в списоки\n",
    "    \n",
    "def gbm_predict(X):\n",
    "    return [sum([alfa * alg.predict([x])[0] for alg, alfa in zip(base_list, alfas)]) for x in X]"
   ]
  },
  {
   "cell_type": "code",
   "execution_count": 170,
   "metadata": {
    "collapsed": false
   },
   "outputs": [
    {
     "data": {
      "text/plain": [
       "4.7464859436879738"
      ]
     },
     "execution_count": 170,
     "metadata": {},
     "output_type": "execute_result"
    }
   ],
   "source": [
    "y_pred = gbm_predict(X_test)\n",
    "score = metrics.mean_squared_error(y_test, y_pred)\n",
    "score**0.5"
   ]
  },
  {
   "cell_type": "code",
   "execution_count": 171,
   "metadata": {
    "collapsed": false
   },
   "outputs": [
    {
     "data": {
      "text/plain": [
       "[19.318124999999991,\n",
       " 19.318124999999991,\n",
       " 14.29269230769231,\n",
       " 19.318124999999991,\n",
       " 14.29269230769231,\n",
       " 17.382857142857141,\n",
       " 8.6082352941176481,\n",
       " 8.6082352941176481,\n",
       " 19.318124999999991,\n",
       " 17.382857142857141]"
      ]
     },
     "execution_count": 171,
     "metadata": {},
     "output_type": "execute_result"
    }
   ],
   "source": [
    "y_pred[:10]"
   ]
  },
  {
   "cell_type": "code",
   "execution_count": 92,
   "metadata": {
    "collapsed": false
   },
   "outputs": [
    {
     "data": {
      "text/plain": [
       "array([ 22.6,  24.6,  11. ,  33.2,  23.3,  18.7,  13.9,  38.7,  17.1,  20. ])"
      ]
     },
     "execution_count": 92,
     "metadata": {},
     "output_type": "execute_result"
    }
   ],
   "source": [
    "y_test[:10]"
   ]
  },
  {
   "cell_type": "code",
   "execution_count": null,
   "metadata": {
    "collapsed": true
   },
   "outputs": [],
   "source": []
  }
 ],
 "metadata": {
  "anaconda-cloud": {},
  "kernelspec": {
   "display_name": "Python [conda root]",
   "language": "python",
   "name": "conda-root-py"
  },
  "language_info": {
   "codemirror_mode": {
    "name": "ipython",
    "version": 2
   },
   "file_extension": ".py",
   "mimetype": "text/x-python",
   "name": "python",
   "nbconvert_exporter": "python",
   "pygments_lexer": "ipython2",
   "version": "2.7.14"
  }
 },
 "nbformat": 4,
 "nbformat_minor": 2
}
